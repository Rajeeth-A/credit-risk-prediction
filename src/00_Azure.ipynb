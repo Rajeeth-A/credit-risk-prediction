{
 "cells": [
  {
   "cell_type": "code",
   "execution_count": 1,
   "id": "e2b624f5",
   "metadata": {},
   "outputs": [],
   "source": [
    "from azure.identity import DefaultAzureCredential\n",
    "from azure.mgmt.resource import ResourceManagementClient\n",
    "from azure.ai.ml import MLClient\n",
    "from azure.ai.ml.entities import Workspace\n",
    "import datetime\n"
   ]
  },
  {
   "cell_type": "code",
   "execution_count": 2,
   "id": "fabee99a",
   "metadata": {},
   "outputs": [
    {
     "data": {
      "text/html": [
       "        <script type=\"text/javascript\">\n",
       "        window.PlotlyConfig = {MathJaxConfig: 'local'};\n",
       "        if (window.MathJax && window.MathJax.Hub && window.MathJax.Hub.Config) {window.MathJax.Hub.Config({SVG: {font: \"STIX-Web\"}});}\n",
       "        if (typeof require !== 'undefined') {\n",
       "        require.undef(\"plotly\");\n",
       "        requirejs.config({\n",
       "            paths: {\n",
       "                'plotly': ['https://cdn.plot.ly/plotly-2.35.2.min']\n",
       "            }\n",
       "        });\n",
       "        require(['plotly'], function(Plotly) {\n",
       "            window._Plotly = Plotly;\n",
       "        });\n",
       "        }\n",
       "        </script>\n",
       "        "
      ]
     },
     "metadata": {},
     "output_type": "display_data"
    }
   ],
   "source": [
    "# Importation des librairies\n",
    "import os\n",
    "import time\n",
    "import warnings\n",
    "import numpy as np\n",
    "import pandas as pd\n",
    "import matplotlib.pyplot as plt\n",
    "import seaborn as sns\n",
    "\n",
    "from itertools import product\n",
    "import random\n",
    "from random import seed as random_seed\n",
    "\n",
    "from tqdm import tqdm\n",
    "import plotly.graph_objects as go\n",
    "\n",
    "\n",
    "from sklearn.preprocessing import StandardScaler\n",
    "from sklearn.model_selection import StratifiedKFold\n",
    "from sklearn.metrics import accuracy_score, f1_score, confusion_matrix\n",
    "from sklearn.exceptions import ConvergenceWarning\n",
    "from sklearn.ensemble import RandomForestClassifier\n",
    "from sklearn.ensemble import GradientBoostingClassifier\n",
    "\n",
    "# Configuration pour éviter les avertissements\n",
    "os.environ['TF_ENABLE_ONEDNN_OPTS'] = '0'\n",
    "warnings.filterwarnings(\"ignore\", category=DeprecationWarning)\n",
    "warnings.filterwarnings(\"ignore\", category=ConvergenceWarning)\n",
    "\n",
    "import plotly.offline as py \n",
    "py.init_notebook_mode(connected=True) # this code, allow us to work with offline plotly version\n",
    "import plotly.graph_objs as go # it's like \"plt\" of matplot\n",
    "import plotly.tools as tls # It's useful to we get some tools of plotly\n"
   ]
  },
  {
   "cell_type": "code",
   "execution_count": 3,
   "id": "cafb04ff",
   "metadata": {},
   "outputs": [
    {
     "name": "stdout",
     "output_type": "stream",
     "text": [
      "Création du groupe de ressources 'ds-ml-eus-data'...\n"
     ]
    }
   ],
   "source": [
    "# Authentification\n",
    "credential = DefaultAzureCredential()\n",
    "\n",
    "# Client pour gérer les groupes de ressources\n",
    "resource_client = ResourceManagementClient(credential, subscription_id)\n",
    "\n",
    "# Vérifier si le groupe de ressources existe\n",
    "try:\n",
    "    resource_client.resource_groups.get(resource_group)\n",
    "    print(f\"Le groupe de ressources '{resource_group}' existe déjà.\")\n",
    "except Exception:\n",
    "    print(f\"Création du groupe de ressources '{resource_group}'...\")\n",
    "    resource_client.resource_groups.create_or_update(\n",
    "        resource_group_name=resource_group,\n",
    "        parameters={\"location\": location},\n",
    "    )"
   ]
  },
  {
   "cell_type": "code",
   "execution_count": 5,
   "id": "a3ba97b1",
   "metadata": {},
   "outputs": [],
   "source": [
    "ml_client = MLClient(DefaultAzureCredential(), subscription_id, resource_group)"
   ]
  },
  {
   "cell_type": "code",
   "execution_count": 6,
   "id": "12f3ee47",
   "metadata": {},
   "outputs": [
    {
     "name": "stderr",
     "output_type": "stream",
     "text": [
      "The deployment request mlw-basic-prod-202502041227-2708866 was accepted. ARM deployment URI for reference: \n",
      "https://portal.azure.com//#blade/HubsExtension/DeploymentDetailsBlade/overview/id/%2Fsubscriptions%2F701cba3b-fdc2-498c-8f7c-16ebfcf45e76%2FresourceGroups%2Fds-ml-eus-data%2Fproviders%2FMicrosoft.Resources%2Fdeployments%2Fmlw-basic-prod-202502041227-2708866\n",
      "Creating Key Vault: (mlwbasickeyvault46d1710b  ) ..  Done (21s)\n",
      "Creating Log Analytics Workspace: (mlwbasiclogalytifc475b58  )  Done (22s)\n",
      "Creating Storage Account: (mlwbasicstorage9fa679174  )  Done (23s)\n",
      "Creating AzureML Workspace: (mlw-basic-prod-202502041227  ) ..  Done (22s)\n",
      "Creating Application Insights: (mlwbasicinsightsc84e055e  )  Done (25s)\n",
      "Total time : 50s\n",
      "\n"
     ]
    },
    {
     "name": "stdout",
     "output_type": "stream",
     "text": [
      "allow_roleassignment_on_rg: true\n",
      "application_insights: /subscriptions/701cba3b-fdc2-498c-8f7c-16ebfcf45e76/resourceGroups/ds-ml-eus-data/providers/Microsoft.insights/components/mlwbasicinsightsc84e055e\n",
      "description: This example shows how to create a basic workspace\n",
      "discovery_url: https://eastus.api.azureml.ms/discovery\n",
      "display_name: Basic workspace-example\n",
      "enable_data_isolation: false\n",
      "hbi_workspace: false\n",
      "id: /subscriptions/701cba3b-fdc2-498c-8f7c-16ebfcf45e76/resourceGroups/ds-ml-eus-data/providers/Microsoft.MachineLearningServices/workspaces/mlw-basic-prod-202502041227\n",
      "identity:\n",
      "  principal_id: 5c3670af-f979-4395-ac7b-44812eda994b\n",
      "  tenant_id: f6449130-f985-4f70-b860-6b37d30e54fc\n",
      "  type: system_assigned\n",
      "key_vault: /subscriptions/701cba3b-fdc2-498c-8f7c-16ebfcf45e76/resourceGroups/ds-ml-eus-data/providers/Microsoft.Keyvault/vaults/mlwbasickeyvault46d1710b\n",
      "location: eastus\n",
      "managed_network:\n",
      "  isolation_mode: disabled\n",
      "  outbound_rules: []\n",
      "mlflow_tracking_uri: azureml://eastus.api.azureml.ms/mlflow/v2.0/subscriptions/701cba3b-fdc2-498c-8f7c-16ebfcf45e76/resourceGroups/ds-ml-eus-data/providers/Microsoft.MachineLearningServices/workspaces/mlw-basic-prod-202502041227\n",
      "name: mlw-basic-prod-202502041227\n",
      "provision_network_now: false\n",
      "public_network_access: Enabled\n",
      "resource_group: ds-ml-eus-data\n",
      "serverless_compute:\n",
      "  no_public_ip: false\n",
      "storage_account: /subscriptions/701cba3b-fdc2-498c-8f7c-16ebfcf45e76/resourceGroups/ds-ml-eus-data/providers/Microsoft.Storage/storageAccounts/mlwbasicstorage9fa679174\n",
      "system_datastores_auth_mode: accesskey\n",
      "tags:\n",
      "  createdByToolkit: sdk-v2-1.24.0\n",
      "  purpose: demo\n",
      "\n"
     ]
    }
   ],
   "source": [
    "import datetime\n",
    "\n",
    "basic_workspace_name = \"mlw-basic-prod-\" + datetime.datetime.now().strftime(\n",
    "    \"%Y%m%d%H%M\"\n",
    ")\n",
    "\n",
    "ws_basic = Workspace(\n",
    "    name=basic_workspace_name,\n",
    "    location=\"eastus\",\n",
    "    display_name=\"Basic workspace-example\",\n",
    "    description=\"This example shows how to create a basic workspace\",\n",
    "    hbi_workspace=False,\n",
    "    tags=dict(purpose=\"demo\"),\n",
    ")\n",
    "\n",
    "ws_basic = ml_client.workspaces.begin_create(ws_basic).result()\n",
    "print(ws_basic)"
   ]
  },
  {
   "cell_type": "code",
   "execution_count": 8,
   "id": "6914c099",
   "metadata": {},
   "outputs": [
    {
     "name": "stderr",
     "output_type": "stream",
     "text": [
      "Found the config file in: .\\config.json\n",
      "Overriding of current TracerProvider is not allowed\n",
      "Overriding of current LoggerProvider is not allowed\n",
      "Overriding of current MeterProvider is not allowed\n",
      "Attempting to instrument while already instrumented\n",
      "Attempting to instrument while already instrumented\n",
      "Attempting to instrument while already instrumented\n",
      "Attempting to instrument while already instrumented\n"
     ]
    },
    {
     "data": {
      "text/plain": [
       "AzureBlobDatastore({'type': <DatastoreType.AZURE_BLOB: 'AzureBlob'>, 'name': 'mldata_store', 'description': 'first projet', 'tags': {}, 'properties': {}, 'print_as_yaml': False, 'id': '/subscriptions/701cba3b-fdc2-498c-8f7c-16ebfcf45e76/resourceGroups/ds-ml-eus-data/providers/Microsoft.MachineLearningServices/workspaces/mlw-basic-prod-202502041227/datastores/mldata_store', 'Resource__source_path': '', 'base_path': 'c:\\\\Users\\\\Rajeeth\\\\Desktop\\\\AzureML - Copie\\\\src', 'creation_context': None, 'serialize': <msrest.serialization.Serializer object at 0x000002AB125B5070>, 'credentials': <azure.ai.ml.entities._credentials.NoneCredentialConfiguration object at 0x000002AB125B3F70>, 'container_name': 'azureml', 'account_name': 'mlprojecstorageb7d68ab92', 'endpoint': 'core.windows.net', 'protocol': 'https'})"
      ]
     },
     "execution_count": 8,
     "metadata": {},
     "output_type": "execute_result"
    }
   ],
   "source": [
    "from azure.ai.ml.entities import AzureBlobDatastore\n",
    "\n",
    "store = AzureBlobDatastore(\n",
    "    name=\"mldata_store\",\n",
    "    description=\"first projet\",\n",
    "    account_name=\"mlprojecstorageb7d68ab92\",\n",
    "    container_name=\"azureml\"\n",
    ")\n",
    "\n",
    "ml_client.create_or_update(store)"
   ]
  },
  {
   "cell_type": "code",
   "execution_count": null,
   "id": "830f1d61",
   "metadata": {},
   "outputs": [],
   "source": [
    "from azure.ai.ml.entities import Data\n",
    "\n",
    "# Define the Data asset object\n",
    "my_data = Data(\n",
    "    path=\"cs-training.csv\",\n",
    "    type=\"uri_file\",\n",
    "    description=\"My images. Version includes data through to 2023-Jan-08.\",\n",
    "    name=\"risk_credits_dataset\",\n",
    "    version=\"1\",\n",
    ")\n",
    "\n",
    "# Create the data asset in the workspace\n",
    "ml_client.data.create_or_update(my_data)"
   ]
  },
  {
   "cell_type": "code",
   "execution_count": null,
   "id": "b78bebc8",
   "metadata": {},
   "outputs": [],
   "source": []
  }
 ],
 "metadata": {
  "kernelspec": {
   "display_name": "azure-ml",
   "language": "python",
   "name": "python3"
  },
  "language_info": {
   "codemirror_mode": {
    "name": "ipython",
    "version": 3
   },
   "file_extension": ".py",
   "mimetype": "text/x-python",
   "name": "python",
   "nbconvert_exporter": "python",
   "pygments_lexer": "ipython3",
   "version": "3.9.21"
  }
 },
 "nbformat": 4,
 "nbformat_minor": 5
}
